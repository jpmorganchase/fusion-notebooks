{
 "cells": [
  {
   "cell_type": "markdown",
   "id": "94098fd8-293c-437a-b11a-e7787db3276c",
   "metadata": {},
   "source": [
    "# PyFusion Example Notebook #\n",
    "\n",
    "This notebook steps through the main functions in the PyFusion module to provide an overview. Please refer to the documentation for the full list of optional parameters supported by each function."
   ]
  },
  {
   "cell_type": "code",
   "execution_count": null,
   "id": "60a34a3c-7b56-489c-a69f-d68114e6513d",
   "metadata": {},
   "outputs": [],
   "source": [
    "from fusion import Fusion, FusionCredentials\n",
    "import pandas as pd"
   ]
  },
  {
   "cell_type": "markdown",
   "id": "240f601c-48b8-4f25-8788-74a60264ae74",
   "metadata": {},
   "source": [
    "## Getting started ##\n",
    "\n",
    "A utility function _generate_credentials_file_ in the _FusionCredentials_ class can be used to save credentials in a format that can be read directly by the Fusion class to establish a session. \n",
    "\n",
    "Two optional parameters that are useful:\n",
    "\n",
    "*  _credentials_file_ is an optional parameter to specify a location to write the file, this defaults to _./config/client_credentials.json_ \n",
    "*  _proxies_ will need to be set if connecting from behind an internet proxy, using the format:  proxies = {'http':'myproxy.mycompany.com:8080','https':'myproxy.mycompany.com:8080'}\n",
    "\n"
   ]
  },
  {
   "cell_type": "code",
   "execution_count": null,
   "id": "3178a96d-5f33-4327-9965-73035cb12c9e",
   "metadata": {
    "tags": []
   },
   "outputs": [],
   "source": [
    "FusionCredentials.generate_credentials_file(\n",
    "                    client_id = '<CLIENT ID>',\n",
    "                    client_secret = '<CLIENT SECRET>'\n",
    ")"
   ]
  },
  {
   "cell_type": "markdown",
   "id": "4360a8f5-ad8d-40a7-a48a-b7ccc3da15f0",
   "metadata": {},
   "source": [
    "## Start a new Fusion session ##\n",
    "\n",
    "Creating a Fusion object withough any parameters will attempt to load a credentials file from _./config/client_credentials.json_. A different path and file can be specified using the credentials parameter. Alternatively a Fusion object can be created by passing a FusionsCredentials object, or a dictionary with the required values to the constructor.  \n",
    "\n",
    "The credentials are used to connect to the authentication server and obtain an access token. When the token expires it will be automatically renewed."
   ]
  },
  {
   "cell_type": "code",
   "execution_count": null,
   "id": "a45a6194-2f3c-4a65-90e2-343933d0af7c",
   "metadata": {},
   "outputs": [],
   "source": [
    "fusion = Fusion()"
   ]
  },
  {
   "cell_type": "markdown",
   "id": "0590e30d-1164-486b-8309-9b9e499d396b",
   "metadata": {},
   "source": [
    "## List available catalogs ##\n",
    "\n",
    "Returns a dataframe containing a list of catalogs that are available to the API functional account used to authenticate. "
   ]
  },
  {
   "cell_type": "code",
   "execution_count": null,
   "id": "5ed758d2-baac-4f5c-83f3-5f1ecc56e5fa",
   "metadata": {},
   "outputs": [],
   "source": [
    "fusion.list_catalogs()"
   ]
  },
  {
   "cell_type": "markdown",
   "id": "3ef50fcb-1bb3-479e-acf8-c10930fa3a73",
   "metadata": {},
   "source": [
    "## Get catalog resources ##\n",
    "\n",
    "Returns the resources available for the specified catalog (the default is the common catalog). At this time, the catalog resources returned are products and datasets."
   ]
  },
  {
   "cell_type": "code",
   "execution_count": null,
   "id": "66502d4a-9f09-4483-a993-039bd2d7b206",
   "metadata": {},
   "outputs": [],
   "source": [
    "fusion.catalog_resources()"
   ]
  },
  {
   "cell_type": "markdown",
   "id": "c303e3d3-5cef-47b4-8770-8c655d7a1f4b",
   "metadata": {},
   "source": [
    "## List products in the catalog ##\n",
    "\n",
    "Given a catalog name (the default is the common catalog), this will return a dataframe containing the list of products, including the product identifier and associated metadata.\n",
    "\n",
    "* _contains_ is an optional parameter that filters the product list to those that contain the string or one of the strings in a list in the identifier or description attributes. The example below filters the product list to those containing either index or FX in the description or identifier attribtues. Calling the function without this parameter will return all products.\n",
    "* _id_contains_ if set to True will match values specified by the contains parameter to the product identifier only"
   ]
  },
  {
   "cell_type": "code",
   "execution_count": null,
   "id": "e4e6cb42-403c-4b31-9065-a7def5166a86",
   "metadata": {
    "tags": []
   },
   "outputs": [],
   "source": [
    "fusion.list_products(contains=['index','fx'])"
   ]
  },
  {
   "cell_type": "markdown",
   "id": "b3064b31-9b00-463a-b705-5a28f06cb015",
   "metadata": {},
   "source": [
    "## List datasets in the catalog ##\n",
    "\n",
    "Given a catalog name (the default is the common catalog), this will return a dataframe containing the list of datasets, including the dataset identifier and associated metadata.\n",
    "\n",
    "* _contains_ is an optional parameter that works in the same way it does for products, and is either a string or a list of strings. The example below will return datasets with the word index in the identifier or description. \n",
    "* _id_contains_ limits the filtering by values specified by the contains parameter to matching the dataset identifier only.\n",
    "\n",
    "* _max_results_ is an optional parameter tha specifies the number of rows to return."
   ]
  },
  {
   "cell_type": "code",
   "execution_count": null,
   "id": "73fa85ee-ade0-4e45-ab8e-26050b15df18",
   "metadata": {
    "tags": []
   },
   "outputs": [],
   "source": [
    "fusion.list_datasets(contains='index', max_results = 5)"
   ]
  },
  {
   "cell_type": "markdown",
   "id": "e9ee76aa-2cf1-4834-ab0d-5fed814cf09b",
   "metadata": {},
   "source": [
    "## Get dataset resources ##\n",
    "\n",
    "Return a dataframe containing the resources available for the dataset, given the dataset identifier. At this time, this will always be a datasetseries which represents instances of the dataset, e.g. in a timeseries."
   ]
  },
  {
   "cell_type": "code",
   "execution_count": null,
   "id": "2b54a54f-6a4d-4da2-933a-f9ea21aa5409",
   "metadata": {},
   "outputs": [],
   "source": [
    "fusion.dataset_resources('<DATASET ID>')"
   ]
  },
  {
   "cell_type": "markdown",
   "id": "f1f967be-ffb8-4485-b95e-a23b78d04cd5",
   "metadata": {},
   "source": [
    "## List datasets attributes ##\n",
    "\n",
    "Return a dataframe with the attributes contained in the dataset given the dataset identifier. The name, type, and description is retrieved from the data dictionary."
   ]
  },
  {
   "cell_type": "code",
   "execution_count": null,
   "id": "2294196c-a5c2-4c4c-a7a1-1c376680497d",
   "metadata": {},
   "outputs": [],
   "source": [
    "fusion.list_dataset_attributes('<DATASET ID>')"
   ]
  },
  {
   "cell_type": "markdown",
   "id": "f43b763f-836f-4abe-9c43-c555093a66c3",
   "metadata": {},
   "source": [
    "## List datasetseries members ##\n",
    "\n",
    "Return a dataframe with the datasetseries members given a dataset identifier. The identifier in the results is a label representing invidual instances of the dataset, for example corresponding to a date."
   ]
  },
  {
   "cell_type": "code",
   "execution_count": null,
   "id": "8b8d8656-865b-4eae-93ea-cac61689c237",
   "metadata": {},
   "outputs": [],
   "source": [
    "fusion.list_datasetmembers('<DATASET ID>')"
   ]
  },
  {
   "cell_type": "markdown",
   "id": "d2c75ac7-9720-42f9-8bce-b44acceeebaf",
   "metadata": {},
   "source": [
    "## Get datasetseries member resources ##\n",
    "\n",
    "Given a dataset identifier and a datasetseries member identifier, this will return a dataframe containing the resources available for this datasetseries member in a dataframe. Currently, this will return distributions, which represents a downloadable file in a specific format."
   ]
  },
  {
   "cell_type": "code",
   "execution_count": null,
   "id": "807af2fc-285f-43af-87ef-c5f47564f164",
   "metadata": {},
   "outputs": [],
   "source": [
    "fusion.datasetmember_resources('<DATASET ID>','<SERIES ID>')"
   ]
  },
  {
   "cell_type": "markdown",
   "id": "ccc78c7b-72da-4319-932c-fad0659ca006",
   "metadata": {},
   "source": [
    "## List available distributions ##\n",
    "\n",
    "Given a dataset identifier and a dataset series member identifier, this will return a dataframe containing the available disitrbutions. A distribution corresponds to data in a format that can be downloaded, e.g. csv or parquet"
   ]
  },
  {
   "cell_type": "code",
   "execution_count": null,
   "id": "48ca1949-8776-4f48-be8f-d1b9874c9ae6",
   "metadata": {},
   "outputs": [],
   "source": [
    "fusion.list_distributions('<DATASET ID>','<SERIES ID>')"
   ]
  },
  {
   "cell_type": "markdown",
   "id": "198bdf40-02c3-489c-9898-e6ef50d7bdb0",
   "metadata": {},
   "source": [
    "## Download distributions ##\n",
    "\n",
    "Given a dataset identifier, a date or date range, and a file format, download the requested distributions to disk. "
   ]
  },
  {
   "cell_type": "code",
   "execution_count": null,
   "id": "670bee0e-f1e1-41eb-beed-d4793e23d877",
   "metadata": {},
   "outputs": [],
   "source": [
    "fusion.download('<DATASET ID>',dt_str='<SERIES ID>',dataset_format='csv')"
   ]
  },
  {
   "cell_type": "markdown",
   "id": "35c7d8ad-0fde-44c5-a82c-e54002143e98",
   "metadata": {},
   "source": [
    "## Load distributions as a dataframe ##\n",
    "\n",
    "Given a dataset identifier, a date or date range, and a file format, return the requested data as a pandas dataframe.\n",
    "\n",
    "* _columns_ is an optional parameter specifying a list of columns to return (only applies when the dataset format is parquet)."
   ]
  },
  {
   "cell_type": "code",
   "execution_count": null,
   "id": "7508c1ff-9b3e-4153-bce5-ec2b5f0e18bd",
   "metadata": {},
   "outputs": [],
   "source": [
    "fusion.to_df('<DATASET ID>',dt_str = \"<SERIES ID>\", columns= ['ID'], dataset_format='parquet')"
   ]
  }
 ],
 "metadata": {
  "kernelspec": {
   "display_name": "fusionenv",
   "language": "python",
   "name": "fusionenv"
  },
  "language_info": {
   "codemirror_mode": {
    "name": "ipython",
    "version": 3
   },
   "file_extension": ".py",
   "mimetype": "text/x-python",
   "name": "python",
   "nbconvert_exporter": "python",
   "pygments_lexer": "ipython3",
   "version": "3.8.8"
  }
 },
 "nbformat": 4,
 "nbformat_minor": 5
}
